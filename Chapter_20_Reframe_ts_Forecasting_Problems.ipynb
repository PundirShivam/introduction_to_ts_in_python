{
 "cells": [
  {
   "cell_type": "markdown",
   "metadata": {},
   "source": [
    "### Benefits of Reframing the problem\n",
    "1. Simply the problem\n",
    "2. Provide the basis for an ensemble forecast."
   ]
  },
  {
   "cell_type": "markdown",
   "metadata": {},
   "source": [
    "### There are three ways a forecast problem can be framed\n",
    "\n",
    "1. As an alternate regression problem.\n",
    "    - Forecast the change in the minimum temperature compared to the previous day.\n",
    "    - Forecast the minimum temperature relative to the average from the past 14 days.\n",
    "    - Forecast the minimum temperature relative to the average the same month last year.\n",
    "    - Forecast the minimum temperature rounded to the nearest 5 degrees Celsius.\n",
    "    - Forecast the average minimum temperature for the next 7 days.\n",
    "\n",
    "Transforming the granularity of a prediction problem does change the difficulty of the problem and can be very useful if the requirements of the problem permit such redefinitions.\n",
    "\n",
    "2. As a classification prediction problem.\n",
    "\n",
    "    - Forecast whether a minimum temperature will be cold, moderate, or warm.\n",
    "    - Forecast whether a change in minimum temperature will be small or large.\n",
    "    - Forecast whether the minimum temperature will be a monthly minimum or not.\n",
    "    - Forecast whether the minimum will be higher or lower than the minimum in the previous year.\n",
    "    - Forecast whether the minimum temperature will rise or fall over the next 7 days.\n",
    "\n",
    "The approach open up ideas on labels as well as binary classification framings. Most classification framings are likely to keep the ordinal structure (e.g. cold, moderate or hot) . Ordinal structure has an ordered\n",
    "relationship between the classes.\n",
    "\n",
    "3. With an alternate time horizon.\n",
    "\n",
    "    - Forecast the minimum temperature for the next 7 days.\n",
    "    - Forecast the minimum temperature in 30 days time.\n",
    "    - Forecast the average minimum temperature next month.\n",
    "    - Forecast the day in the next week that will have the lowest minimum temperature.\n",
    "    - Forecast one year of minimum temperature values.\n",
    "    \n",
    "It is easy to get caught up in the idea that you require one-step forecasts. Focusing on reframings of the problem around time horizon forces you to think about point versus multi-step forecasts and how far in the future to consider.    "
   ]
  }
 ],
 "metadata": {
  "kernelspec": {
   "display_name": "Python 3",
   "language": "python",
   "name": "python3"
  },
  "language_info": {
   "codemirror_mode": {
    "name": "ipython",
    "version": 3
   },
   "file_extension": ".py",
   "mimetype": "text/x-python",
   "name": "python",
   "nbconvert_exporter": "python",
   "pygments_lexer": "ipython3",
   "version": "3.6.8"
  }
 },
 "nbformat": 4,
 "nbformat_minor": 4
}
